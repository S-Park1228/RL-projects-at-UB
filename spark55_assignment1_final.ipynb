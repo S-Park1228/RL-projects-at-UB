{
 "cells": [
  {
   "cell_type": "markdown",
   "id": "8d61d5d4",
   "metadata": {},
   "source": [
    "# Assignment 1\n",
    "---"
   ]
  },
  {
   "cell_type": "markdown",
   "id": "4bae193e",
   "metadata": {},
   "source": [
    "## Part 1"
   ]
  },
  {
   "cell_type": "markdown",
   "id": "d76cdb14",
   "metadata": {},
   "source": [
    "### Problem 1: N-Queens"
   ]
  },
  {
   "cell_type": "code",
   "execution_count": 1,
   "id": "f1a1d1ef",
   "metadata": {},
   "outputs": [],
   "source": [
    "import numpy as np\n",
    "import matplotlib.pyplot as plt"
   ]
  },
  {
   "cell_type": "code",
   "execution_count": 2,
   "id": "8643d310",
   "metadata": {},
   "outputs": [],
   "source": [
    "# class for N-Queens problem\n",
    "# Place the queens in order from the leftmost column.\n",
    "# Every Queen in each column must be compliant with the queens\n",
    "# to the left of itself.\n",
    "# From column 1 of row 1 to column 1 of the nth row,\n",
    "# reposition the first queen and list the number of possible cases.\n",
    "class Col:\n",
    "    def __init__(self, pos, N, prev_board):\n",
    "        self.col = None\n",
    "        self.pos = pos # the column which a 'Col' class indicates\n",
    "        self.N = N\n",
    "        self.next_candid = np.arange(N) # candidates compliant with\n",
    "                                        # the queens to the left columns\n",
    "        self.mask = np.ones(N, dtype = bool)\n",
    "        self.prev_board = prev_board\n",
    "        self.updated_board = None # Board without conflict\n",
    "                                  # between queens up to the previous column\n",
    "        self.count = 0\n",
    "                \n",
    "    # Place the queens in the right to the latest queen's column\n",
    "    # based on the self.next_candid NumPy array.\n",
    "    # It yields an updated chess board every trial.\n",
    "    def locate(self, candidates):\n",
    "        self.col = np.zeros((self.N,))\n",
    "        self.col[candidates[self.count]] = 1\n",
    "        self.count += 1\n",
    "        self.updated_board = self.prev_board.copy()\n",
    "        self.updated_board[:, self.pos] = self.col\n",
    "        \n",
    "        return self.updated_board\n",
    "    \n",
    "    # Determine the possible position where the next right queen\n",
    "    # can be located considering the self.update_board.\n",
    "    def next_col_candid(self):\n",
    "        self.mask = np.ones(self.N, dtype = bool)\n",
    "        self.next_candid = np.arange(self.N)\n",
    "        for j in range(self.N):\n",
    "            if criteria(self.N, self.updated_board, self.pos + 1, j) == False:\n",
    "                self.mask[[j]] = False\n",
    "        self.next_candid = self.next_candid[self.mask]\n",
    "        \n",
    "        return self.next_candid"
   ]
  },
  {
   "cell_type": "code",
   "execution_count": 3,
   "id": "8ae0cdc9",
   "metadata": {},
   "outputs": [],
   "source": [
    "# Queens must comply with these rules.\n",
    "def criteria(N, board, col, row):\n",
    "    for i in range(col):\n",
    "        # Check the left columns.\n",
    "        if board[row][i] == 1: # the 1st rule: No two queens are allowed\n",
    "                               # to be located in the same row.\n",
    "            return False\n",
    "        else:\n",
    "            # Check the diagonal directions.\n",
    "            for k in range(N): # the 2nd rule: No two queens are allowed\n",
    "                               # to be located in any diagonal directions.\n",
    "                if board[k][i] == 1 and (abs(k - row) == abs(i - col)):\n",
    "                    return False"
   ]
  },
  {
   "cell_type": "code",
   "execution_count": 4,
   "id": "a01c3ac8",
   "metadata": {},
   "outputs": [],
   "source": [
    "class Solutions:\n",
    "    def __init__(self):\n",
    "        self.solutions = []\n",
    "        \n",
    "    def add_sol(self, board):\n",
    "        self.solutions.append(board)\n",
    "        \n",
    "    def display(self, N):\n",
    "        for i in range(len(self.solutions)):\n",
    "            # Queens are located at black cells.\n",
    "            print(f\"Case {i + 1}\")\n",
    "            plt.imshow(self.solutions[i], cmap = 'Greys');\n",
    "            plt.show()\n",
    "            print('\\n')"
   ]
  },
  {
   "cell_type": "code",
   "execution_count": 5,
   "id": "3f22b55e",
   "metadata": {},
   "outputs": [],
   "source": [
    "def recursive(N, pos, prev_board, candidates):\n",
    "    col = Col(pos, N, prev_board)\n",
    "    for _ in range(len(candidates)):\n",
    "        # Locate the current column's queen on the chess board\n",
    "        # based on the previously determined deployment.\n",
    "        updated_board = col.locate(candidates)\n",
    "        if pos == (N - 1): # if the last column\n",
    "            solutions.add_sol(updated_board)\n",
    "        elif pos < (N - 1): # if not the last column\n",
    "            next_candid = col.next_col_candid()\n",
    "            if next_candid.all() == None: # if no possible candidate\n",
    "                break\n",
    "            else: # if recursive process possible (The next candidate exists.)\n",
    "                recursive(N, pos + 1, updated_board, next_candid)\n",
    "        else:\n",
    "            break"
   ]
  },
  {
   "cell_type": "code",
   "execution_count": 6,
   "id": "f111dad3",
   "metadata": {},
   "outputs": [],
   "source": [
    "def n_queens(N):\n",
    "    pos = 0\n",
    "    board = np.zeros((N, N))\n",
    "    recursive(N, pos, board, np.arange(N))\n",
    "    \n",
    "    return solutions.solutions"
   ]
  },
  {
   "cell_type": "code",
   "execution_count": 7,
   "id": "90658a1a",
   "metadata": {},
   "outputs": [
    {
     "data": {
      "text/plain": [
       "[array([[0., 0., 1., 0.],\n",
       "        [1., 0., 0., 0.],\n",
       "        [0., 0., 0., 1.],\n",
       "        [0., 1., 0., 0.]]),\n",
       " array([[0., 1., 0., 0.],\n",
       "        [0., 0., 0., 1.],\n",
       "        [1., 0., 0., 0.],\n",
       "        [0., 0., 1., 0.]])]"
      ]
     },
     "execution_count": 7,
     "metadata": {},
     "output_type": "execute_result"
    }
   ],
   "source": [
    "# Insert the number of queens.\n",
    "N = 4\n",
    "solutions = Solutions()\n",
    "n_queens(N)"
   ]
  },
  {
   "cell_type": "code",
   "execution_count": 8,
   "id": "f1878c6f",
   "metadata": {},
   "outputs": [
    {
     "name": "stdout",
     "output_type": "stream",
     "text": [
      "Case 1\n"
     ]
    },
    {
     "data": {
      "image/png": "[encoded data removed]",
      "text/plain": [
       "<Figure size 432x288 with 1 Axes>"
      ]
     },
     "metadata": {
      "needs_background": "light"
     },
     "output_type": "display_data"
    },
    {
     "name": "stdout",
     "output_type": "stream",
     "text": [
      "\n",
      "\n",
      "Case 2\n"
     ]
    },
    {
     "data": {
      "image/png": "[encoded data removed]",
      "text/plain": [
       "<Figure size 432x288 with 1 Axes>"
      ]
     },
     "metadata": {
      "needs_background": "light"
     },
     "output_type": "display_data"
    },
    {
     "name": "stdout",
     "output_type": "stream",
     "text": [
      "\n",
      "\n"
     ]
    }
   ],
   "source": [
    "solutions.display(N)"
   ]
  },
  {
   "cell_type": "code",
   "execution_count": 9,
   "id": "98fa769a",
   "metadata": {},
   "outputs": [
    {
     "data": {
      "text/plain": [
       "[array([[1., 0., 0., 0., 0.],\n",
       "        [0., 0., 0., 1., 0.],\n",
       "        [0., 1., 0., 0., 0.],\n",
       "        [0., 0., 0., 0., 1.],\n",
       "        [0., 0., 1., 0., 0.]]),\n",
       " array([[1., 0., 0., 0., 0.],\n",
       "        [0., 0., 1., 0., 0.],\n",
       "        [0., 0., 0., 0., 1.],\n",
       "        [0., 1., 0., 0., 0.],\n",
       "        [0., 0., 0., 1., 0.]]),\n",
       " array([[0., 0., 1., 0., 0.],\n",
       "        [1., 0., 0., 0., 0.],\n",
       "        [0., 0., 0., 1., 0.],\n",
       "        [0., 1., 0., 0., 0.],\n",
       "        [0., 0., 0., 0., 1.]]),\n",
       " array([[0., 0., 0., 1., 0.],\n",
       "        [1., 0., 0., 0., 0.],\n",
       "        [0., 0., 1., 0., 0.],\n",
       "        [0., 0., 0., 0., 1.],\n",
       "        [0., 1., 0., 0., 0.]]),\n",
       " array([[0., 1., 0., 0., 0.],\n",
       "        [0., 0., 0., 1., 0.],\n",
       "        [1., 0., 0., 0., 0.],\n",
       "        [0., 0., 1., 0., 0.],\n",
       "        [0., 0., 0., 0., 1.]]),\n",
       " array([[0., 0., 0., 0., 1.],\n",
       "        [0., 0., 1., 0., 0.],\n",
       "        [1., 0., 0., 0., 0.],\n",
       "        [0., 0., 0., 1., 0.],\n",
       "        [0., 1., 0., 0., 0.]]),\n",
       " array([[0., 1., 0., 0., 0.],\n",
       "        [0., 0., 0., 0., 1.],\n",
       "        [0., 0., 1., 0., 0.],\n",
       "        [1., 0., 0., 0., 0.],\n",
       "        [0., 0., 0., 1., 0.]]),\n",
       " array([[0., 0., 0., 0., 1.],\n",
       "        [0., 1., 0., 0., 0.],\n",
       "        [0., 0., 0., 1., 0.],\n",
       "        [1., 0., 0., 0., 0.],\n",
       "        [0., 0., 1., 0., 0.]]),\n",
       " array([[0., 0., 0., 1., 0.],\n",
       "        [0., 1., 0., 0., 0.],\n",
       "        [0., 0., 0., 0., 1.],\n",
       "        [0., 0., 1., 0., 0.],\n",
       "        [1., 0., 0., 0., 0.]]),\n",
       " array([[0., 0., 1., 0., 0.],\n",
       "        [0., 0., 0., 0., 1.],\n",
       "        [0., 1., 0., 0., 0.],\n",
       "        [0., 0., 0., 1., 0.],\n",
       "        [1., 0., 0., 0., 0.]])]"
      ]
     },
     "execution_count": 9,
     "metadata": {},
     "output_type": "execute_result"
    }
   ],
   "source": [
    "# Insert the number of queens.\n",
    "N = 5\n",
    "solutions = Solutions()\n",
    "n_queens(N)"
   ]
  },
  {
   "cell_type": "code",
   "execution_count": 10,
   "id": "801451dd",
   "metadata": {},
   "outputs": [
    {
     "name": "stdout",
     "output_type": "stream",
     "text": [
      "Case 1\n"
     ]
    },
    {
     "data": {
      "image/png": "[encoded data removed]",
      "text/plain": [
       "<Figure size 432x288 with 1 Axes>"
      ]
     },
     "metadata": {
      "needs_background": "light"
     },
     "output_type": "display_data"
    },
    {
     "name": "stdout",
     "output_type": "stream",
     "text": [
      "\n",
      "\n",
      "Case 2\n"
     ]
    },
    {
     "data": {
      "image/png": "[encoded data removed]",
      "text/plain": [
       "<Figure size 432x288 with 1 Axes>"
      ]
     },
     "metadata": {
      "needs_background": "light"
     },
     "output_type": "display_data"
    },
    {
     "name": "stdout",
     "output_type": "stream",
     "text": [
      "\n",
      "\n",
      "Case 3\n"
     ]
    },
    {
     "data": {
      "image/png": "[encoded data removed]",
      "text/plain": [
       "<Figure size 432x288 with 1 Axes>"
      ]
     },
     "metadata": {
      "needs_background": "light"
     },
     "output_type": "display_data"
    },
    {
     "name": "stdout",
     "output_type": "stream",
     "text": [
      "\n",
      "\n",
      "Case 4\n"
     ]
    },
    {
     "data": {
      "image/png": "[encoded data removed]",
      "text/plain": [
       "<Figure size 432x288 with 1 Axes>"
      ]
     },
     "metadata": {
      "needs_background": "light"
     },
     "output_type": "display_data"
    },
    {
     "name": "stdout",
     "output_type": "stream",
     "text": [
      "\n",
      "\n",
      "Case 5\n"
     ]
    },
    {
     "data": {
      "image/png": "[encoded data removed]",
      "text/plain": [
       "<Figure size 432x288 with 1 Axes>"
      ]
     },
     "metadata": {
      "needs_background": "light"
     },
     "output_type": "display_data"
    },
    {
     "name": "stdout",
     "output_type": "stream",
     "text": [
      "\n",
      "\n",
      "Case 6\n"
     ]
    },
    {
     "data": {
      "image/png": "[encoded data removed]",
      "text/plain": [
       "<Figure size 432x288 with 1 Axes>"
      ]
     },
     "metadata": {
      "needs_background": "light"
     },
     "output_type": "display_data"
    },
    {
     "name": "stdout",
     "output_type": "stream",
     "text": [
      "\n",
      "\n",
      "Case 7\n"
     ]
    },
    {
     "data": {
      "image/png": "[encoded data removed]",
      "text/plain": [
       "<Figure size 432x288 with 1 Axes>"
      ]
     },
     "metadata": {
      "needs_background": "light"
     },
     "output_type": "display_data"
    },
    {
     "name": "stdout",
     "output_type": "stream",
     "text": [
      "\n",
      "\n",
      "Case 8\n"
     ]
    },
    {
     "data": {
      "image/png": "[encoded data removed]",
      "text/plain": [
       "<Figure size 432x288 with 1 Axes>"
      ]
     },
     "metadata": {
      "needs_background": "light"
     },
     "output_type": "display_data"
    },
    {
     "name": "stdout",
     "output_type": "stream",
     "text": [
      "\n",
      "\n",
      "Case 9\n"
     ]
    },
    {
     "data": {
      "image/png": "[encoded data removed]",
      "text/plain": [
       "<Figure size 432x288 with 1 Axes>"
      ]
     },
     "metadata": {
      "needs_background": "light"
     },
     "output_type": "display_data"
    },
    {
     "name": "stdout",
     "output_type": "stream",
     "text": [
      "\n",
      "\n",
      "Case 10\n"
     ]
    },
    {
     "data": {
      "image/png": "[encoded data removed]",
      "text/plain": [
       "<Figure size 432x288 with 1 Axes>"
      ]
     },
     "metadata": {
      "needs_background": "light"
     },
     "output_type": "display_data"
    },
    {
     "name": "stdout",
     "output_type": "stream",
     "text": [
      "\n",
      "\n"
     ]
    }
   ],
   "source": [
    "solutions.display(N)"
   ]
  },
  {
   "cell_type": "markdown",
   "id": "19ca6131",
   "metadata": {},
   "source": [
    "### Problem 2: Tower of Hanoi"
   ]
  },
  {
   "cell_type": "code",
   "execution_count": 11,
   "id": "a681e04c",
   "metadata": {},
   "outputs": [],
   "source": [
    "def move(n, start, target):\n",
    "    print(f\"Move the disk {n} from the rod {start} to the rod {target}.\")"
   ]
  },
  {
   "cell_type": "code",
   "execution_count": 12,
   "id": "e0d1b6f0",
   "metadata": {},
   "outputs": [],
   "source": [
    "def tower_of_hanoi(n, start, auxiliary, target):\n",
    "    \"\"\"\n",
    "    n: the number of disks\n",
    "    start: starting rod\n",
    "    auxiliary: auxiliary rod\n",
    "    target: target rod\n",
    "    \"\"\"\n",
    "    \n",
    "    if (n == 1):\n",
    "        move(n, start, target)\n",
    "    else:\n",
    "        tower_of_hanoi(n - 1, start, target, auxiliary)\n",
    "        move(n, start, target)\n",
    "        tower_of_hanoi(n - 1, auxiliary, start, target)"
   ]
  },
  {
   "cell_type": "code",
   "execution_count": 13,
   "id": "aba32b47",
   "metadata": {},
   "outputs": [
    {
     "name": "stdout",
     "output_type": "stream",
     "text": [
      "Move the disk 1 from the rod A to the rod C.\n",
      "Move the disk 2 from the rod A to the rod B.\n",
      "Move the disk 1 from the rod C to the rod B.\n",
      "Move the disk 3 from the rod A to the rod C.\n",
      "Move the disk 1 from the rod B to the rod A.\n",
      "Move the disk 2 from the rod B to the rod C.\n",
      "Move the disk 1 from the rod A to the rod C.\n"
     ]
    }
   ],
   "source": [
    "n = 3\n",
    "start = 'A'\n",
    "auxiliary = 'B'\n",
    "target = 'C'\n",
    "\n",
    "tower_of_hanoi(n, start, auxiliary, target)"
   ]
  },
  {
   "cell_type": "markdown",
   "id": "3250ea3b",
   "metadata": {},
   "source": [
    "### Problem 3: Rounded bracket generator"
   ]
  },
  {
   "cell_type": "code",
   "execution_count": 14,
   "id": "806045ae",
   "metadata": {},
   "outputs": [],
   "source": [
    "class RoundedBracketGenerator:\n",
    "    def __init__(self, n):\n",
    "        self.n = n\n",
    "        self.count = 0\n",
    "        self.cur = [] # the current n\n",
    "        self.prev = [] # the previous n\n",
    "        \n",
    "    def recursive(self):\n",
    "        \n",
    "        while self.count < self.n:\n",
    "            if self.count == 0:\n",
    "                self.cur = [\"()\"]\n",
    "            else:\n",
    "                self.prev = list(self.cur)\n",
    "                self.cur = []\n",
    "        \n",
    "                for i in self.prev:\n",
    "                    temp = \"(\" + i + \")\"\n",
    "                    if temp not in self.cur:\n",
    "                        self.cur.append(temp)\n",
    "                    temp_2 = \"()\" + i\n",
    "                    if temp_2 not in self.cur:\n",
    "                        self.cur.append(temp_2)\n",
    "                    temp_3 = i + \"()\"\n",
    "                    if temp_3 not in self.cur:\n",
    "                        self.cur.append(temp_3)\n",
    "            \n",
    "            self.count += 1\n",
    "                \n",
    "    def output(self):\n",
    "        print(self.cur)"
   ]
  },
  {
   "cell_type": "code",
   "execution_count": 15,
   "id": "3a290aa8",
   "metadata": {},
   "outputs": [],
   "source": [
    "def rounded_bracket_generator(n):\n",
    "    rbg = RoundedBracketGenerator(n)\n",
    "    rbg.recursive()\n",
    "    rbg.output()"
   ]
  },
  {
   "cell_type": "code",
   "execution_count": 16,
   "id": "aa2c5659",
   "metadata": {},
   "outputs": [
    {
     "name": "stdout",
     "output_type": "stream",
     "text": [
      "['(((())))', '()((()))', '((()))()', '(()(()))', '()()(())', '()(())()', '((())())', '(())()()', '((()()))', '()(()())', '(()())()', '(()()())', '()()()()']\n"
     ]
    }
   ],
   "source": [
    "# Insert the number of pairs.\n",
    "rounded_bracket_generator(4)"
   ]
  },
  {
   "cell_type": "markdown",
   "id": "5d111b1b",
   "metadata": {},
   "source": [
    "### Problem 4: RL Grid world safe zone detection"
   ]
  },
  {
   "cell_type": "code",
   "execution_count": 17,
   "id": "6d04c52e",
   "metadata": {},
   "outputs": [],
   "source": [
    "import numpy as np"
   ]
  },
  {
   "cell_type": "code",
   "execution_count": 18,
   "id": "83ee6bc5",
   "metadata": {},
   "outputs": [],
   "source": [
    "class SafeZoneDetection:\n",
    "    def __init__(self, gridworld):\n",
    "        self.gridworld = gridworld\n",
    "        self.height = self.gridworld.shape[0]\n",
    "        self.width = self.gridworld.shape[1]\n",
    "        \n",
    "    def search(self):\n",
    "        temp = self.gridworld.copy()\n",
    "        for i in range(self.height):\n",
    "            for j in range(self.width):\n",
    "                if self.gridworld[i][j] == 'S':\n",
    "                    if i < (self.height - 1) and j < (self.width - 1):\n",
    "                        if self.gridworld[i + 1][j] == 'S':\n",
    "                            temp[i + 1][j] = 'D'\n",
    "                        if self.gridworld[i][j + 1] == 'S':\n",
    "                            temp[i][j + 1] = 'D'\n",
    "                    elif i == (self.height - 1) and j < (self.width - 1):\n",
    "                        if self.gridworld[i][j + 1] == 'S':\n",
    "                            temp[i][j + 1] = 'D'\n",
    "                    elif i < (self.height - 1) and j == (self.width - 1):\n",
    "                        if self.gridworld[i + 1][j] == 'S':\n",
    "                            temp[i + 1][j] = 'D'\n",
    "        \n",
    "        return (temp == 'S').sum()"
   ]
  },
  {
   "cell_type": "code",
   "execution_count": 19,
   "id": "7414fdd2",
   "metadata": {},
   "outputs": [
    {
     "data": {
      "text/plain": [
       "1"
      ]
     },
     "execution_count": 19,
     "metadata": {},
     "output_type": "execute_result"
    }
   ],
   "source": [
    "gridworld = np.array([['S', 'S', 'S', 'S', 'D'],\n",
    "                      ['S', 'S', 'D', 'S', 'D'],\n",
    "                      ['S', 'S', 'D', 'D', 'D'],\n",
    "                      ['D', 'D', 'D', 'D', 'D']])\n",
    "\n",
    "safe_zones = SafeZoneDetection(gridworld)\n",
    "safe_zones.search()"
   ]
  },
  {
   "cell_type": "code",
   "execution_count": 20,
   "id": "0ea4135c",
   "metadata": {},
   "outputs": [
    {
     "data": {
      "text/plain": [
       "3"
      ]
     },
     "execution_count": 20,
     "metadata": {},
     "output_type": "execute_result"
    }
   ],
   "source": [
    "gridworld2 = np.array([['S', 'S', 'D', 'D', 'D'],\n",
    "                       ['S', 'S', 'D', 'D', 'D'],\n",
    "                       ['D', 'D', 'S', 'D', 'D'],\n",
    "                       ['D', 'D', 'D', 'S', 'S']])\n",
    "\n",
    "safe_zones2 = SafeZoneDetection(gridworld2)\n",
    "safe_zones2.search()"
   ]
  },
  {
   "cell_type": "code",
   "execution_count": null,
   "id": "093da718",
   "metadata": {},
   "outputs": [],
   "source": []
  },
  {
   "cell_type": "markdown",
   "id": "ea9e7a2b",
   "metadata": {},
   "source": [
    "## Part 2 - Game Theory"
   ]
  },
  {
   "cell_type": "markdown",
   "id": "191dbe98",
   "metadata": {},
   "source": [
    "Let us assume that all strategic form game payoff matrices are represented as NumPy arrays.\n",
    "<br>\n",
    "<br>\n",
    "Example\n",
    "```python\n",
    "payoff_mat = np.array([[(1, 2), (-2, -3)],\n",
    "                       [(-4, -3), (3, 2)]])\n",
    "```\n",
    "This example is nothing but the following payoff matrix.\n",
    "\n",
    "| P1\\P2 | S21 | S22 |\n",
    "|------|------|------|\n",
    "| S11 | (1, 2) | (-2, -3) |\n",
    "| S21 | (-4, -3) | (3, 2) |\n",
    "\n",
    "- P1: player 1\n",
    "- P2: player 2\n",
    "- S11: the strategy 1 of the player 1\n",
    "- S12: the strategy 2 of the player 1\n",
    "- S21: the strategy 1 of the player 2\n",
    "- S22: the strategy 2 of the player 2"
   ]
  },
  {
   "cell_type": "code",
   "execution_count": 21,
   "id": "00737d5c",
   "metadata": {},
   "outputs": [],
   "source": [
    "import numpy as np"
   ]
  },
  {
   "cell_type": "code",
   "execution_count": 22,
   "id": "97c0b7a4",
   "metadata": {},
   "outputs": [],
   "source": [
    "class Strategic_Form:\n",
    "    def __init__(self, payoff_mat):\n",
    "        self.mat = payoff_mat\n",
    "        # the number of strategies of the player 1\n",
    "        self.num_str_1 = payoff_mat.shape[0]\n",
    "        # the number of strategies of the player 2\n",
    "        self.num_str_2 = payoff_mat.shape[1]\n",
    "        self.ref_table_1 = None\n",
    "        self.ref_table_2 = None\n",
    "        self.best_response = None\n",
    "        self.strong_dominant_1 = None\n",
    "        self.strong_dominant_2 = None\n",
    "        self.strong_weak_1 = None\n",
    "        self.strong_weak_2 = None\n",
    "        self.nash_equil = []\n",
    "        self.maximin_1 = None\n",
    "        self.maximin_2 = None\n",
    "        self.minimax_1 = None\n",
    "        self.minimax_2 = None\n",
    "        \n",
    "    def strongly_dominant(self):\n",
    "        # player 1\n",
    "        self.ref_table_1 = np.zeros((self.num_str_1, self.num_str_1))\n",
    "        for i in range(self.num_str_1 - 1):\n",
    "            for j in range(1, self.num_str_1):\n",
    "                if i < j:\n",
    "                    temp_prev = self.mat[i, :, 0]\n",
    "                    temp_next = self.mat[j, :, 0]\n",
    "                \n",
    "                    if (temp_prev > temp_next).sum() == self.num_str_1:\n",
    "                        self.ref_table_1[i][j] = 1\n",
    "                    \n",
    "                    if (temp_prev < temp_next).sum() == self.num_str_1:\n",
    "                        self.ref_table_1[j][i] = 1\n",
    "                else:\n",
    "                    continue\n",
    "                    \n",
    "        temp_1 = self.ref_table_1.sum(axis = 1)\n",
    "        if temp_1.max() == (self.num_str_1 - 1):\n",
    "            self.strong_dominant_1 = temp_1.argmax()\n",
    "            print(f\"The player 1's strongly dominant strategy: \" +\n",
    "                  f\"the strategy {self.strong_dominant_1 + 1}\")\n",
    "        else:\n",
    "            print(\"The player 1 has no strongly dominant strategy.\")\n",
    "            \n",
    "        # player 2\n",
    "        self.ref_table_2 = np.zeros((self.num_str_2, self.num_str_2))\n",
    "        for i in range(self.num_str_2 - 1):\n",
    "            for j in range(1, self.num_str_2):\n",
    "                if i < j:\n",
    "                    temp_prev = self.mat[:, i, 1]\n",
    "                    temp_next = self.mat[:, j, 1]\n",
    "                \n",
    "                    if (temp_prev > temp_next).sum() == self.num_str_2:\n",
    "                        self.ref_table_2[i][j] = 1\n",
    "                    \n",
    "                    if (temp_prev < temp_next).sum() == self.num_str_2:\n",
    "                        self.ref_table_2[j][i] = 1\n",
    "                else:\n",
    "                    continue\n",
    "                    \n",
    "        temp_2 = self.ref_table_2.sum(axis = 1)\n",
    "        if temp_2.max() == (self.num_str_2 - 1):\n",
    "            self.strong_dominant_2 = temp_2.argmax()\n",
    "            print(f\"The player 2's strongly dominant strategy: \" +\n",
    "                  f\"the strategy {self.strong_dominant_2 + 1}\")\n",
    "        else:\n",
    "            print(\"The player 2 has no strongly dominant strategy.\")\n",
    "        \n",
    "    def weakly_dominant(self):\n",
    "        # player 1\n",
    "        self.ref_table_1 = np.zeros((self.num_str_1, self.num_str_1))\n",
    "        for i in range(self.num_str_1 - 1):\n",
    "            for j in range(1, self.num_str_1):\n",
    "                if i < j:\n",
    "                    temp_prev = self.mat[i, :, 0]\n",
    "                    temp_next = self.mat[j, :, 0]\n",
    "                \n",
    "                    if (temp_prev >= temp_next).sum() == self.num_str_1:\n",
    "                        self.ref_table_1[i][j] = 1\n",
    "                    \n",
    "                    if (temp_prev <= temp_next).sum() == self.num_str_1:\n",
    "                        self.ref_table_1[j][i] = 1\n",
    "                else:\n",
    "                    continue\n",
    "                    \n",
    "        temp_1 = self.ref_table_1.sum(axis = 1)\n",
    "        if temp_1.max() == (self.num_str_1 - 1):\n",
    "            self.weak_dominant_1 = temp_1.argmax()\n",
    "            print(f\"The player 1's weakly dominant strategy: \" +\n",
    "                  f\"the strategy {self.weak_dominant_1 + 1}\")\n",
    "        else:\n",
    "            print(\"The player 1 has no weakly dominant strategy.\")\n",
    "            \n",
    "        # player 2\n",
    "        self.ref_table_2 = np.zeros((self.num_str_2, self.num_str_2))\n",
    "        for i in range(self.num_str_2 - 1):\n",
    "            for j in range(1, self.num_str_2):\n",
    "                if i < j:\n",
    "                    temp_prev = self.mat[:, i, 1]\n",
    "                    temp_next = self.mat[:, j, 1]\n",
    "                \n",
    "                    if (temp_prev >= temp_next).sum() == self.num_str_2:\n",
    "                        self.ref_table_2[i][j] = 1\n",
    "                    \n",
    "                    if (temp_prev <= temp_next).sum() == self.num_str_2:\n",
    "                        self.ref_table_2[j][i] = 1\n",
    "                else:\n",
    "                    continue\n",
    "                    \n",
    "        temp_2 = self.ref_table_2.sum(axis = 1)\n",
    "        if temp_2.max() == (self.num_str_2 - 1):\n",
    "            self.weak_dominant_2 = temp_2.argmax()\n",
    "            print(f\"The player 2's weakly dominant strategy: \" +\n",
    "                  f\"the strategy {self.weak_dominant_2 + 1}\")\n",
    "        else:\n",
    "            print(\"The player 2 has no weakly dominant strategy.\")\n",
    "            \n",
    "    def nash(self):\n",
    "        self.best_response = np.zeros((self.num_str_1, self.num_str_2))\n",
    "        # player 1's best response\n",
    "        for i in range(self.num_str_2):\n",
    "            max_1 = self.mat[:, i, 0].max()\n",
    "            for j in range(self.num_str_1):\n",
    "                if self.mat[j, i, 0] == max_1:\n",
    "                    self.best_response[j][i] += 1\n",
    "                    \n",
    "        # player 2's best response\n",
    "        for i in range(self.num_str_1):\n",
    "            max_2 = self.mat[i, :, 1].max()\n",
    "            for j in range(self.num_str_2):\n",
    "                if self.mat[i, j, 1] == max_2:\n",
    "                    self.best_response[i][j] += 1\n",
    "        \n",
    "        for k in range(self.num_str_1):\n",
    "            for l in range(self.num_str_2):\n",
    "                if self.best_response[k][l] == 2:\n",
    "                    self.nash_equil.append((k, l))\n",
    "                    print(f\"Pure Strategy Nash Equilibrium: \"\n",
    "                          f\"{(k + 1, l + 1)}\")\n",
    "                    \n",
    "    def maximin(self):\n",
    "        # maximin strategy: A maxmin strategy of player i is\n",
    "        #                   one that maximizes its worst case payoff\n",
    "        #                   in the situation where the other agent is\n",
    "        #                   playing to cause it the greatest harm.\n",
    "        minimums_1 = []\n",
    "        for i in range(self.num_str_1):\n",
    "            minimums_1.append(self.mat[i, :, 0].min())\n",
    "        temp_1 = max(minimums_1)\n",
    "        self.maximin_1 = minimums_1.index(temp_1)\n",
    "\n",
    "        minimums_2 = []\n",
    "        for i in range(self.num_str_2):\n",
    "            minimums_2.append(self.mat[:, i, 1].min())\n",
    "        temp_2 = max(minimums_2)\n",
    "        self.maximin_2 = minimums_2.index(temp_2)\n",
    "        \n",
    "        return (self.maximin_1, self.maximin_2), self.mat[self.maximin_1][self.maximin_2]\n",
    "    \n",
    "    def minimax(self):\n",
    "        # minimax strategy: A minmax strategy is the one that minimizes\n",
    "        #                   the maximum payoff the other player can get.\n",
    "        self.minimax_1 = self.mat[:, :, 1].max(axis = 1).argmin()\n",
    "        self.minimax_2 = self.mat[:, :, 0].max(axis = 0).argmin()\n",
    "        \n",
    "        return (self.minimax_1, self.minimax_2), self.mat[self.minimax_1][self.minimax_2]"
   ]
  },
  {
   "cell_type": "markdown",
   "id": "e0660486",
   "metadata": {},
   "source": [
    "1. All strongly dominant strategies"
   ]
  },
  {
   "cell_type": "code",
   "execution_count": 23,
   "id": "ce151ddc",
   "metadata": {},
   "outputs": [
    {
     "name": "stdout",
     "output_type": "stream",
     "text": [
      "The player 1 has no strongly dominant strategy.\n",
      "The player 2's strongly dominant strategy: the strategy 1\n"
     ]
    }
   ],
   "source": [
    "mat = np.array([[(2, 4), (0, 1)], [(2, 5), (3, 3)]])\n",
    "example = Strategic_Form(mat)\n",
    "example.strongly_dominant()"
   ]
  },
  {
   "cell_type": "markdown",
   "id": "d8a6d952",
   "metadata": {},
   "source": [
    "2. All weakly dominant strategies"
   ]
  },
  {
   "cell_type": "code",
   "execution_count": 24,
   "id": "8c3ee823",
   "metadata": {},
   "outputs": [
    {
     "name": "stdout",
     "output_type": "stream",
     "text": [
      "The player 1's weakly dominant strategy: the strategy 2\n",
      "The player 2's weakly dominant strategy: the strategy 1\n"
     ]
    }
   ],
   "source": [
    "example.weakly_dominant()"
   ]
  },
  {
   "cell_type": "markdown",
   "id": "4072e656",
   "metadata": {},
   "source": [
    "3. Strongly dominant strategy equilibrium"
   ]
  },
  {
   "cell_type": "code",
   "execution_count": 25,
   "id": "1d744bb8",
   "metadata": {},
   "outputs": [
    {
     "name": "stdout",
     "output_type": "stream",
     "text": [
      "There is no Strongly Dominant Strategy Equilibrium for the given payoff matrix.\n"
     ]
    }
   ],
   "source": [
    "if example.strong_dominant_1 != None and example.strong_dominant_2 != None:\n",
    "    print((example.strong_dominant_1 + 1,\n",
    "           example.strong_dominant_2 + 1))\n",
    "else:\n",
    "    print(\"There is no Strongly Dominant Strategy Equilibrium for the given payoff matrix.\")"
   ]
  },
  {
   "cell_type": "markdown",
   "id": "18b72a24",
   "metadata": {},
   "source": [
    "4. Weakly dominant strategy equilibrium"
   ]
  },
  {
   "cell_type": "code",
   "execution_count": 26,
   "id": "b8586965",
   "metadata": {},
   "outputs": [
    {
     "name": "stdout",
     "output_type": "stream",
     "text": [
      "(2, 1)\n"
     ]
    }
   ],
   "source": [
    "if example.weak_dominant_1 != None and example.weak_dominant_2 != None:\n",
    "    print((example.weak_dominant_1 + 1,\n",
    "           example.weak_dominant_2 + 1))\n",
    "else:\n",
    "    print(\"There is no Weakly Dominant Strategy Equilibrium for the given payoff matrix.\")"
   ]
  },
  {
   "cell_type": "markdown",
   "id": "d1fdc94c",
   "metadata": {},
   "source": [
    "5. All pure strategy Nash equilibrium"
   ]
  },
  {
   "cell_type": "code",
   "execution_count": 27,
   "id": "fd5f5e76",
   "metadata": {},
   "outputs": [
    {
     "name": "stdout",
     "output_type": "stream",
     "text": [
      "Pure Strategy Nash Equilibrium: (1, 1)\n",
      "Pure Strategy Nash Equilibrium: (2, 1)\n"
     ]
    }
   ],
   "source": [
    "example.nash()"
   ]
  },
  {
   "cell_type": "markdown",
   "id": "7d8fa532",
   "metadata": {},
   "source": [
    "6. Maxmin values of all players and all their maximin strategies"
   ]
  },
  {
   "cell_type": "code",
   "execution_count": 28,
   "id": "75691fc7",
   "metadata": {},
   "outputs": [
    {
     "name": "stdout",
     "output_type": "stream",
     "text": [
      "Maximin strategies:\t(the strategy 2, the strategy 1)\n",
      "Maximin payoff values:\t(2, 5)\n"
     ]
    }
   ],
   "source": [
    "strategies, values = example.maximin()\n",
    "print(f\"Maximin strategies:\\t(the strategy {strategies[0] + 1}, the strategy {strategies[1] + 1})\")\n",
    "print(f\"Maximin payoff values:\\t({values[0]}, {values[1]})\")"
   ]
  },
  {
   "cell_type": "markdown",
   "id": "69227453",
   "metadata": {},
   "source": [
    "7. Minmax values of all players and all minmax strategy profiles against each player"
   ]
  },
  {
   "cell_type": "code",
   "execution_count": 29,
   "id": "23651142",
   "metadata": {},
   "outputs": [
    {
     "name": "stdout",
     "output_type": "stream",
     "text": [
      "Minimax strategies:\t(the strategy 1, the strategy 1)\n",
      "Minimax payoff values:\t(2, 4)\n"
     ]
    }
   ],
   "source": [
    "strategies, values = example.minimax()\n",
    "print(f\"Minimax strategies:\\t(the strategy {strategies[0] + 1}, the strategy {strategies[1] + 1})\")\n",
    "print(f\"Minimax payoff values:\\t({values[0]}, {values[1]})\")"
   ]
  },
  {
   "cell_type": "code",
   "execution_count": null,
   "id": "5cbaad14",
   "metadata": {},
   "outputs": [],
   "source": []
  }
 ],
 "metadata": {
  "kernelspec": {
   "display_name": "Python 3 (ipykernel)",
   "language": "python",
   "name": "python3"
  },
  "language_info": {
   "codemirror_mode": {
    "name": "ipython",
    "version": 3
   },
   "file_extension": ".py",
   "mimetype": "text/x-python",
   "name": "python",
   "nbconvert_exporter": "python",
   "pygments_lexer": "ipython3",
   "version": "3.9.5"
  }
 },
 "nbformat": 4,
 "nbformat_minor": 5
}
